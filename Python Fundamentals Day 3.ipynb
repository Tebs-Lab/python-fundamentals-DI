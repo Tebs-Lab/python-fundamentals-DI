{
 "cells": [
  {
   "cell_type": "markdown",
   "metadata": {
    "slideshow": {
     "slide_type": "slide"
    }
   },
   "source": [
    "# Day 3"
   ]
  },
  {
   "cell_type": "markdown",
   "metadata": {
    "slideshow": {
     "slide_type": "subslide"
    }
   },
   "source": [
    "# Functions"
   ]
  },
  {
   "cell_type": "markdown",
   "metadata": {
    "slideshow": {
     "slide_type": "slide"
    }
   },
   "source": [
    "## Functions\n",
    "* __`def`__ introduces a function, followed by function name, parenthesized list of args and then a colon\n",
    "* body of function is indented"
   ]
  },
  {
   "cell_type": "code",
   "execution_count": null,
   "metadata": {},
   "outputs": [],
   "source": [
    "# a \"do nothing\" function\n",
    "def noop():\n",
    "    pass # Python statement that does nothing"
   ]
  },
  {
   "cell_type": "code",
   "execution_count": null,
   "metadata": {},
   "outputs": [],
   "source": [
    "noop()"
   ]
  },
  {
   "cell_type": "code",
   "execution_count": null,
   "metadata": {},
   "outputs": [],
   "source": [
    "noop(1, 3, 5)"
   ]
  },
  {
   "cell_type": "code",
   "execution_count": null,
   "metadata": {
    "slideshow": {
     "slide_type": "subslide"
    }
   },
   "outputs": [],
   "source": [
    "def simpfunc(x):\n",
    "    if x == 1:\n",
    "        print('Hey, x is 1')\n",
    "    elif x < 10:\n",
    "        print('x is < 10 and not 1')\n",
    "    else:\n",
    "        print('x >= 10')"
   ]
  },
  {
   "cell_type": "code",
   "execution_count": null,
   "metadata": {},
   "outputs": [],
   "source": [
    "simpfunc(1)"
   ]
  },
  {
   "cell_type": "code",
   "execution_count": null,
   "metadata": {},
   "outputs": [],
   "source": [
    "simpfunc(5)"
   ]
  },
  {
   "cell_type": "code",
   "execution_count": null,
   "metadata": {},
   "outputs": [],
   "source": [
    "simpfunc(15)"
   ]
  },
  {
   "cell_type": "code",
   "execution_count": null,
   "metadata": {},
   "outputs": [],
   "source": [
    "simpfunc(2.4)"
   ]
  },
  {
   "cell_type": "code",
   "execution_count": null,
   "metadata": {
    "slideshow": {
     "slide_type": "subslide"
    }
   },
   "outputs": [],
   "source": [
    "def rounder25(amount):\n",
    "    \"\"\"Return amount rounded UP to nearest\n",
    "       quarter dollar.\n",
    "       \n",
    "           ...$1.89 becomes $2.00\n",
    "           ...but $1.00/$1.25/$1.75/etc.\n",
    "           remain unchanged\n",
    "    \"\"\"\n",
    "    dollars = int(amount) # 1\n",
    "    cents = round((amount - dollars) * 100) # 89\n",
    "    quarters = cents // 25 # 3\n",
    "    if cents % 25: # 14\n",
    "        quarters += 1 # 4\n",
    "    amount = dollars + 0.25 * quarters # 2.00\n",
    "\n",
    "    return amount"
   ]
  },
  {
   "cell_type": "markdown",
   "metadata": {
    "slideshow": {
     "slide_type": "subslide"
    }
   },
   "source": [
    "## Functions (cont'd)\n",
    "* __`help(func)`__ prints out formatted docstring\n",
    "* __`func`__ .\\__doc__ prints out raw docstring"
   ]
  },
  {
   "cell_type": "code",
   "execution_count": null,
   "metadata": {
    "scrolled": true
   },
   "outputs": [],
   "source": [
    "help(rounder25)"
   ]
  },
  {
   "cell_type": "code",
   "execution_count": null,
   "metadata": {
    "scrolled": true
   },
   "outputs": [],
   "source": [
    "import pandas\n",
    "\n",
    "help(pandas.Series)"
   ]
  },
  {
   "cell_type": "code",
   "execution_count": null,
   "metadata": {},
   "outputs": [],
   "source": [
    "print(rounder25.__doc__)"
   ]
  },
  {
   "cell_type": "code",
   "execution_count": null,
   "metadata": {},
   "outputs": [],
   "source": [
    "rounder25(1.89)"
   ]
  },
  {
   "cell_type": "code",
   "execution_count": null,
   "metadata": {},
   "outputs": [],
   "source": [
    "rounder25(1.75)"
   ]
  },
  {
   "cell_type": "markdown",
   "metadata": {
    "slideshow": {
     "slide_type": "subslide"
    }
   },
   "source": [
    "## Functions (cont'd)\n",
    "* if a function doesn’t call return explicitly, the special value __`None`__ is returned\n",
    "* __`None`__ is like __`NULL`__ in other languages\n",
    "* acts like __`False`__...but not the same as __`False`__"
   ]
  },
  {
   "cell_type": "code",
   "execution_count": null,
   "metadata": {},
   "outputs": [],
   "source": [
    "retval = noop()\n",
    "print(retval)"
   ]
  },
  {
   "cell_type": "code",
   "execution_count": null,
   "metadata": {},
   "outputs": [],
   "source": [
    "# None acts like False...\n",
    "if retval:\n",
    "    print('something')\n",
    "else:\n",
    "    print('nothing')"
   ]
  },
  {
   "cell_type": "markdown",
   "metadata": {
    "slideshow": {
     "slide_type": "subslide"
    }
   },
   "source": [
    "## Functions: positional arguments\n",
    "* arguments are passed to functions in order written\n",
    "* downside: you must remember meaning of each position"
   ]
  },
  {
   "cell_type": "code",
   "execution_count": null,
   "metadata": {},
   "outputs": [],
   "source": [
    "def menu(wine, entree, dessert):\n",
    "    return { 'wine': wine, 'entree': entree, \n",
    "            'dessert': dessert }"
   ]
  },
  {
   "cell_type": "markdown",
   "metadata": {},
   "source": [
    "![alt-text](images/IDE.png \"IDE\")\n",
    "* outside an IDE, it can be difficult to remember\n",
    "* if you pass args in wrong order, bad things can happen!"
   ]
  },
  {
   "cell_type": "code",
   "execution_count": null,
   "metadata": {},
   "outputs": [],
   "source": [
    "menu('tartuffo', 'chianti')"
   ]
  },
  {
   "cell_type": "markdown",
   "metadata": {
    "slideshow": {
     "slide_type": "subslide"
    }
   },
   "source": [
    "## Functions: keyword arguments\n",
    "* you may specify arguments by name, in any order\n",
    "* once you specify a keyword argument, all arguments following it must be keyword arguments"
   ]
  },
  {
   "cell_type": "code",
   "execution_count": null,
   "metadata": {},
   "outputs": [],
   "source": [
    "# passing some arguments by keyword\n",
    "menu('chianti', dessert='tartufo', entree='polenta') "
   ]
  },
  {
   "cell_type": "code",
   "execution_count": null,
   "metadata": {},
   "outputs": [],
   "source": [
    "# passing all arguments by keyword\n",
    "menu(dessert='tartufo', entree='polenta', wine='chianti')"
   ]
  },
  {
   "cell_type": "code",
   "execution_count": null,
   "metadata": {},
   "outputs": [],
   "source": [
    "# once you start passing arguments by keyword, the rest must be passed by keyword\n",
    "menu('chianti', 'polenta',  dessert='tartufo')"
   ]
  },
  {
   "cell_type": "markdown",
   "metadata": {
    "slideshow": {
     "slide_type": "subslide"
    }
   },
   "source": [
    "## Functions: default arguments"
   ]
  },
  {
   "cell_type": "code",
   "execution_count": null,
   "metadata": {},
   "outputs": [],
   "source": [
    "def menu(wine, entree, dessert='tartufo'):\n",
    "    if not isinstance(wine, str):\n",
    "        raise TypeError(\"Your wine must be a string\")\n",
    "    \n",
    "    return { 'wine': wine, 'entree': entree,\n",
    "            'dessert': dessert }"
   ]
  },
  {
   "cell_type": "code",
   "execution_count": null,
   "metadata": {},
   "outputs": [],
   "source": [
    "menu(1, 'braised tofu', 'cake')"
   ]
  },
  {
   "cell_type": "code",
   "execution_count": null,
   "metadata": {},
   "outputs": [],
   "source": [
    "menu('chardonnay', dessert='canoli',\n",
    "     entree='fagioli')"
   ]
  },
  {
   "cell_type": "markdown",
   "metadata": {
    "slideshow": {
     "slide_type": "subslide"
    }
   },
   "source": [
    "## Lab: functions\n",
    "* Write a function __`calculate`__ which is passed two operands and an operator and returns the calculated result, e.g., __`calculate(2, 4, '+')`__ would return 6\n",
    "* Write a function that, given a string, returns True or False whether the string is a pangram\n",
    "* Write a function which takes an integer as a parameter, and sums up its digits. If the resulting sum contains more than 1 digit, the function should sum the digits again, e.g., __`sumdigits(1235)`__ should compute the sum of 1, 2, 3, and 5 (11), then compute the sum of 1 and 1, returning 2.\n",
    "* Write a function which takes a number as a parameter and returns a string version of the number with commas representing thousands, e.g., __`add_commas(12345)`__ would return \"12,345\"\n",
    "* Write a function to demonstrate the Collatz Conjecture:\n",
    "  * for integer n > 1\n",
    "    * if n is even, then __`n = n // 2`__\n",
    "    * if n is odd, then __`n = n * 3 + 1`__\n",
    "  * ...will always converge to 1\n",
    "  * (your function should take n and keep printing new value of n until n is 1)\n"
   ]
  },
  {
   "cell_type": "code",
   "execution_count": null,
   "metadata": {},
   "outputs": [],
   "source": [
    "# this is calculate function in a separate file (module)\n",
    "def calculate(operand1, operand2, operator):\n",
    "    if operator == '+':\n",
    "        return operand1 + operand2\n",
    "    elif operator == '-':\n",
    "        return operand1 - operand2\n",
    "    elif operator == '*':\n",
    "        return operand1 * operand2\n",
    "    elif operator == '/':\n",
    "         return operand1 / operand2\n",
    "        \n",
    "print(calculate(1, 2, '+'))\n",
    "print(calculate(1, 2, '*'))\n",
    "print(calculate(1, 2, '-'))\n",
    "print(calculate(1, 2, '/'))"
   ]
  },
  {
   "cell_type": "code",
   "execution_count": null,
   "metadata": {},
   "outputs": [],
   "source": [
    "def calculate_eval(operand1, operand2, operator):\n",
    "    s = str(operand1) + operator + str(operand2)\n",
    "    print(s)\n",
    "    return eval(s)\n",
    "\n",
    "print(calculate_eval(1, 2, '+'))\n",
    "print(calculate_eval(1, 2, '*'))\n",
    "print(calculate_eval(1, 2, '-'))\n",
    "print(calculate_eval(1, 2, '/'))"
   ]
  },
  {
   "cell_type": "code",
   "execution_count": null,
   "metadata": {},
   "outputs": [],
   "source": [
    "def is_pangram(string):\n",
    "    alphabet = 'abcdefghijklmnopqrstuvwxyz'\n",
    "    string = string.lower() # Case insensitive.\n",
    "    \n",
    "    # Initialize a dict for tracking\n",
    "    exists_in_string = {}\n",
    "        \n",
    "    # Loop through the string itself\n",
    "    for c in string:\n",
    "        exists_in_string[c] = True\n",
    "        \n",
    "    # Loop through the alphabet once again\n",
    "    # to check if all the letters were in the string\n",
    "    for c in alphabet:\n",
    "        if c not in exists_in_string:\n",
    "            return False\n",
    "        \n",
    "    return True\n",
    "\n",
    "print(is_pangram('abcdefghijklmnopqrstuvwxyz'))\n",
    "print(is_pangram('Not a pangram.'))\n",
    "print(is_pangram('The quick brown fox jumps over the lazy dog.'))"
   ]
  },
  {
   "cell_type": "code",
   "execution_count": null,
   "metadata": {},
   "outputs": [],
   "source": [
    "def sumdigits(number):\n",
    "    number_as_string = str(number)\n",
    "    total = 0\n",
    "    \n",
    "    for digit_char in number_as_string:\n",
    "        total += int(digit_char)\n",
    "        \n",
    "    if total > 9:\n",
    "        return sumdigits(total)\n",
    "    \n",
    "    return total\n",
    "\n",
    "print(sumdigits(1235))\n",
    "print(sumdigits(12345))"
   ]
  },
  {
   "cell_type": "code",
   "execution_count": null,
   "metadata": {},
   "outputs": [],
   "source": [
    "def add_commas(number):\n",
    "    number_as_string_reversed = str(number)[::-1]\n",
    "    result = ''\n",
    "    \n",
    "    for position in range(0, len(number_as_string_reversed), 3):\n",
    "        result += number_as_string_reversed[position:position + 3]\n",
    "        \n",
    "        if position < len(number_as_string_reversed) - 3:\n",
    "            result += ','\n",
    "            \n",
    "    return result[::-1]\n",
    "\n",
    "print(add_commas(123456789))\n",
    "print(add_commas(12345))"
   ]
  },
  {
   "cell_type": "code",
   "execution_count": null,
   "metadata": {},
   "outputs": [],
   "source": [
    "def add_commas_easier(number):\n",
    "    return '{:,.2f}'.format(number)\n",
    "\n",
    "print(add_commas_easier(123456789))\n",
    "print(add_commas_easier(12345))"
   ]
  },
  {
   "cell_type": "code",
   "execution_count": null,
   "metadata": {},
   "outputs": [],
   "source": [
    "def collatz(n):\n",
    "    if n < 1 or type(n) != int:\n",
    "        raise ValueError\n",
    "\n",
    "    while n != 1:\n",
    "        if n % 2 == 0:\n",
    "            n //= 2\n",
    "        else:\n",
    "            n = n * 3 + 1\n",
    "        print(n)\n",
    "\n",
    "    return 1\n",
    "\n",
    "\n",
    "collatz(500)"
   ]
  },
  {
   "cell_type": "code",
   "execution_count": null,
   "metadata": {},
   "outputs": [],
   "source": [
    "def IsPanagram(str):\n",
    "    alphabets = 'abcdefghijklmnopqrstuvwxyz'\n",
    "\n",
    "    result = [ char for char in alphabets if char not in str]\n",
    "\n",
    "    if(result is None or result == []):\n",
    "        print('Its a panagram')\n",
    "    else:\n",
    "        print(result)\n",
    "\n",
    "IsPanagram('abcdehijktuvwxyz')\n",
    "\n",
    "def SumString(str):\n",
    "    digits = '1234567890'\n",
    "\n",
    "    intList = [ int(char) for char in str if char in digits]\n",
    "\n",
    "    print(sum(intList))\n",
    "\n",
    "SumString('abcg1234')"
   ]
  },
  {
   "cell_type": "markdown",
   "metadata": {
    "slideshow": {
     "slide_type": "subslide"
    }
   },
   "source": [
    "## Variable Positional Arguments\n",
    "* sometimes we want a function which takes a variable number of arguments (e.g., builtin __`print()`__ function)"
   ]
  },
  {
   "cell_type": "code",
   "execution_count": null,
   "metadata": {},
   "outputs": [],
   "source": [
    "def func(a, b, *args): # func takes 0 or more arguments\n",
    "    print(args, type(args))\n",
    "    for index, arg in enumerate(args):\n",
    "        print('arg', index, 'is', arg)"
   ]
  },
  {
   "cell_type": "code",
   "execution_count": null,
   "metadata": {},
   "outputs": [],
   "source": [
    "func(1,2,3,4,5,6,7,8,9,0)"
   ]
  },
  {
   "cell_type": "code",
   "execution_count": null,
   "metadata": {},
   "outputs": [],
   "source": [
    "func(3, 4, 5, [2, 2, 3], {}, 'string')"
   ]
  },
  {
   "cell_type": "code",
   "execution_count": null,
   "metadata": {},
   "outputs": [],
   "source": [
    "func({ 'a': 'b'}, [1, 2, 3], 'this', True)"
   ]
  },
  {
   "cell_type": "markdown",
   "metadata": {
    "slideshow": {
     "slide_type": "subslide"
    }
   },
   "source": [
    "## Lab: Variable Positional Arguments\n",
    "* write a function called __`product`__ which accepts a variable number of arguments and returns the product of all of its args. With no args, __`product()`__ should return 1    \n",
    "\n",
    "<pre><b>\n",
    ">>> product(3, 5)\n",
    "15\n",
    ">>> product(1, 2, 3)\n",
    "6\n",
    ">>> product(63, 12, 3, 0, 9)\n",
    "0\n",
    ">>> product()\n",
    "1\n",
    "</b></pre>"
   ]
  },
  {
   "cell_type": "code",
   "execution_count": null,
   "metadata": {},
   "outputs": [],
   "source": [
    "def product(*args):\n",
    "    p = 1\n",
    "    \n",
    "    for num in args:\n",
    "        p *= num\n",
    "    \n",
    "    return p\n",
    "\n",
    "print(product(3, 5))\n",
    "print(product(1,2,3))\n",
    "print(product(63, 12, 3, 0, 9))\n",
    "print(product())"
   ]
  },
  {
   "cell_type": "markdown",
   "metadata": {
    "slideshow": {
     "slide_type": "subslide"
    }
   },
   "source": [
    "## Variable Keyword Arguments\n",
    "* what if a function needs a bunch of configuration options, having default values which typically aren't overridden?\n",
    "* one way to do this would be to have the function accept a dict in which these value(s) can be specified\n",
    "* better way is to use variable keywords arguments"
   ]
  },
  {
   "cell_type": "code",
   "execution_count": null,
   "metadata": {},
   "outputs": [],
   "source": [
    "def vka(color, **kwargs):\n",
    "    print('color', color)\n",
    "    print(kwargs, type(kwargs))\n",
    "    for key, val in kwargs.items():\n",
    "        print(key, '=>', val)"
   ]
  },
  {
   "cell_type": "code",
   "execution_count": null,
   "metadata": {},
   "outputs": [],
   "source": [
    "vka(sep='+', foo='bar', whizbang='rotunda', x=5, debug='hello', color='pink')"
   ]
  },
  {
   "cell_type": "code",
   "execution_count": null,
   "metadata": {},
   "outputs": [],
   "source": [
    "vka('pink', sep='+', foo='bar', whizbang='rotunda', x=5, debug='hello', color='blue')"
   ]
  },
  {
   "cell_type": "code",
   "execution_count": null,
   "metadata": {},
   "outputs": [],
   "source": [
    "def weird_func(x, y, z, *args, **kwargs):\n",
    "    print('req args:', x, y, z)\n",
    "    print('var pos args', v)\n",
    "    print('var keywd args', kwargs)\n",
    "    if 'debug' in kwargs:\n",
    "        if kwargs['debug'] == True: # because it could be false\n",
    "            turn_on_debugging = True\n",
    "            # utilize some of *args...\n",
    "            \n",
    "weird_func(1,2,3,5,6,7, my_kw=50)"
   ]
  },
  {
   "cell_type": "code",
   "execution_count": null,
   "metadata": {},
   "outputs": [],
   "source": [
    "def weird_func(x, y, z, float=False):\n",
    "    print('req args:', x, y, z)\n",
    "    print('var pos args', args)\n",
    "    print('var keywd args', kwargs)\n",
    "    \n",
    "weird_func(1,2,3,5,6,7, my_kw=50)"
   ]
  },
  {
   "cell_type": "markdown",
   "metadata": {
    "slideshow": {
     "slide_type": "subslide"
    }
   },
   "source": [
    "# Lab: Variable Keyword Arguments\n",
    "* modify your __`calculate`__ function by adding variable keywords arguments to it and checking whether __`float = True`__, and if so, the calculation is done as floating point, rather than integer (of course this could be done with a default argument value, but don't do that)\n",
    "\n",
    "<pre><b>\n",
    "calculate(2, 4, '+') = 6\n",
    "calculate(3, 2, '/', float=True) = 1.5\n",
    "</b></pre>"
   ]
  },
  {
   "cell_type": "code",
   "execution_count": null,
   "metadata": {},
   "outputs": [],
   "source": [
    "# this is calculate function in a separate file (module)\n",
    "def calculate(operand1, operand2, operator, **kwargs):\n",
    "    if operator == '+':\n",
    "        return operand1 + operand2\n",
    "    elif operator == '-':\n",
    "        return operand1 - operand2\n",
    "    elif operator == '*':\n",
    "        return operand1 * operand2\n",
    "    elif operator == '/':\n",
    "        if kwargs.get('float') == True:\n",
    "            return operand1 / operand2\n",
    "        else:\n",
    "            return operand1 // operand2\n",
    "        \n",
    "print(calculate(1, 2, '/'))\n",
    "print(calculate(1, 2, '/', float=False))\n",
    "print(calculate(1, 2, '/', float=True))"
   ]
  },
  {
   "cell_type": "markdown",
   "metadata": {},
   "source": [
    "## Functions: recap\n",
    "* Python encourages functions which support lots of arguments with default values\n",
    "* \"Explicit is better than implicit\"\n",
    "  * arguments can be passed out of order ONLY if they're passed by keyword\n",
    "  * keywords are more explicit than positions because the function call documents the purpose of its arguments\n",
    "* variable positional args (__`*args`__)\n",
    "* variable keyword args (__`**kwargs`__)"
   ]
  },
  {
   "cell_type": "markdown",
   "metadata": {
    "slideshow": {
     "slide_type": "slide"
    }
   },
   "source": [
    "# Exceptions"
   ]
  },
  {
   "cell_type": "markdown",
   "metadata": {
    "slideshow": {
     "slide_type": "subslide"
    }
   },
   "source": [
    "## Exceptions\n",
    "* errors detected during execution are called exceptions\n",
    "* exceptions are \"thrown\" and either \"caught\" by an exception handler, or propagated upward\n",
    "* \"…exceptions create hidden control-flow paths that are difficult for programmers to reason about\" –Weimer & Necula, \"Exceptional Situations and Program Reliability\"\n",
    "* ...but they are also Pythonic"
   ]
  },
  {
   "cell_type": "code",
   "execution_count": null,
   "metadata": {
    "slideshow": {
     "slide_type": "subslide"
    }
   },
   "outputs": [],
   "source": [
    "mylist = [1, 5, 10]\n",
    "mylist[1]"
   ]
  },
  {
   "cell_type": "code",
   "execution_count": null,
   "metadata": {},
   "outputs": [],
   "source": [
    "def f(mylist):\n",
    "    mylist[5]\n",
    "    \n",
    "f(mylist)"
   ]
  },
  {
   "cell_type": "code",
   "execution_count": null,
   "metadata": {},
   "outputs": [],
   "source": [
    "int('x')"
   ]
  },
  {
   "cell_type": "markdown",
   "metadata": {
    "slideshow": {
     "slide_type": "subslide"
    }
   },
   "source": [
    "![alt-text](images/exceptions.png \"exceptions\")\n"
   ]
  },
  {
   "cell_type": "markdown",
   "metadata": {
    "slideshow": {
     "slide_type": "subslide"
    }
   },
   "source": [
    "## Exceptions: __`try/except`__\n",
    "* __`try`__ block wraps code which may throw an exception, and __`except`__ block catches exception"
   ]
  },
  {
   "cell_type": "code",
   "execution_count": null,
   "metadata": {
    "slideshow": {
     "slide_type": "subslide"
    }
   },
   "outputs": [],
   "source": [
    "try:\n",
    "    mylist[5] # could throw an IndexError\n",
    "except:\n",
    "    print('no element at offset 5')\n",
    "    # cleanup, reset, ...\n",
    "    \n",
    "print('rest of program')"
   ]
  },
  {
   "cell_type": "markdown",
   "metadata": {},
   "source": [
    "* problem? above example catches ALL exceptions, not just __`IndexError`__ we are expecting\n",
    "* best practice is to catch expected exceptions and let unexpected ones through, so as to avoid hidden errors"
   ]
  },
  {
   "cell_type": "code",
   "execution_count": null,
   "metadata": {
    "slideshow": {
     "slide_type": "subslide"
    }
   },
   "outputs": [],
   "source": [
    "try:\n",
    "    print(mylist[5]) # could throw an IndexError\n",
    "    int('a')\n",
    "except IndexError as e:\n",
    "    print('Bad index! Try again!')\n",
    "except Exception as uhoh: # put the exception into the variable uhoh\n",
    "    print('Some other exception:', uhoh, type(uhoh))"
   ]
  },
  {
   "cell_type": "code",
   "execution_count": null,
   "metadata": {
    "slideshow": {
     "slide_type": "subslide"
    }
   },
   "outputs": [],
   "source": [
    "short_list = ['zero', 'one', 'two']\n",
    "\n",
    "while True:\n",
    "    value = input('Enter numeric index [q to quit]? ')\n",
    "    if value == 'q':\n",
    "        break\n",
    "    try:\n",
    "        position = int(value) # they could enter a non-int\n",
    "        print(short_list[position]) # fall off the list... \n",
    "    except IndexError:\n",
    "        print('Bad index:', value)\n",
    "    except ValueError:\n",
    "        print('Follow directions!')\n",
    "    except Exception as other:\n",
    "        print('Something else broke:', other, type(other))\n",
    "        \n"
   ]
  },
  {
   "cell_type": "markdown",
   "metadata": {
    "slideshow": {
     "slide_type": "subslide"
    }
   },
   "source": [
    "## Lab: Exceptions\n",
    "* modify all of your functions to include exception handlers as needed, e.g.,\n",
    " * __`calculate()`__ should catch the __`ZeroDivisionError`__ exception and print an informative message if the user tries to divide by zero\n",
    " * __`sumdigits()`__ should not crash due to non-digits\n",
    " * also take this time to add _docstrings_ if you haven't already\n"
   ]
  },
  {
   "cell_type": "code",
   "execution_count": null,
   "metadata": {},
   "outputs": [],
   "source": [
    "def calculate(operand1, operand2, operator, **kwargs):\n",
    "    if operator == '+':\n",
    "        return operand1 + operand2\n",
    "    elif operator == '-':\n",
    "        return operand1 - operand2\n",
    "    elif operator == '*':\n",
    "        return operand1 * operand2\n",
    "    elif operator == '/':\n",
    "        try:\n",
    "            if kwargs.get('float') == True:\n",
    "                return operand1 / operand2\n",
    "            else:\n",
    "                return operand1 // operand2\n",
    "        except ZeroDivisionError:\n",
    "            print(\"You have attempted to perform division by zero, which is illegal.\")\n",
    "        \n",
    "    \n",
    "\n",
    "            \n",
    "x = calculate(1, 0, '/')\n",
    "print(x)"
   ]
  },
  {
   "cell_type": "code",
   "execution_count": null,
   "metadata": {},
   "outputs": [],
   "source": [
    "def sumdigits(number):\n",
    "    number_as_string = str(number)\n",
    "    total = 0\n",
    "    \n",
    "    for digit_char in number_as_string:\n",
    "        try:\n",
    "            total += int(digit_char)\n",
    "        except ValueError:\n",
    "            print(f'Ignorning non-digit {digit_char}')\n",
    "        \n",
    "    if total > 9:\n",
    "        return sumdigits(total)\n",
    "    \n",
    "    return total\n",
    "\n",
    "sumdigits('11ab1')"
   ]
  },
  {
   "cell_type": "markdown",
   "metadata": {
    "slideshow": {
     "slide_type": "subslide"
    }
   },
   "source": [
    "## Exceptions (cont'd)\n",
    "* important to minimize size of try block\n"
   ]
  },
  {
   "cell_type": "code",
   "execution_count": null,
   "metadata": {},
   "outputs": [],
   "source": [
    "# pseudocode\n",
    "try:\n",
    "    dangerous_call() # presumably could throw an exception\n",
    "    after_call() # this can't throw an exception\n",
    "except OS_Error:\n",
    "    log('...')\n",
    "\n",
    "# after_call() will only run if dangerous_call() doesn't throw\n",
    "# an exception…So what's the problem?\n"
   ]
  },
  {
   "cell_type": "code",
   "execution_count": null,
   "metadata": {
    "slideshow": {
     "slide_type": "-"
    }
   },
   "outputs": [],
   "source": [
    "# pseudocode\n",
    "try:\n",
    "    dangerous_call()\n",
    "except OS_Error:\n",
    "    log('...')\n",
    "else:\n",
    "    after_call()\n",
    "    \n",
    "# now it’s clear that try block is guarding against possible errors in dangerous_call(), not  in after_call()\n",
    "# it’s also more obvious that after_call() will only execute if no exceptions are raised in the try block"
   ]
  },
  {
   "cell_type": "markdown",
   "metadata": {
    "slideshow": {
     "slide_type": "subslide"
    }
   },
   "source": [
    "## __The `finally` Block__\n",
    "* code in the finally block will be executed whether or not an exception is thrown"
   ]
  },
  {
   "cell_type": "code",
   "execution_count": null,
   "metadata": {},
   "outputs": [],
   "source": [
    "def func():\n",
    "    try:\n",
    "        i = int(input('\\nEnter a number: ')) # ValueError?\n",
    "        x = 1 / i # ZeroDivisionError?\n",
    "    except ValueError:\n",
    "        print('Not a number!')\n",
    "        return\n",
    "    except ZeroDivisionError:\n",
    "        print('Cannot divide by 0')\n",
    "    else:\n",
    "        print('Everything OK')\n",
    "    finally:\n",
    "        print('FINALLY: DO this either way!')\n",
    "\n",
    "func(), func(), func()"
   ]
  },
  {
   "cell_type": "markdown",
   "metadata": {
    "slideshow": {
     "slide_type": "subslide"
    }
   },
   "source": [
    "# Lab: Exceptions\n",
    "* extend any __`try/except`__ to __`try/except/else`__\n",
    "* if you can use a __`finally`__ block, even better"
   ]
  },
  {
   "cell_type": "markdown",
   "metadata": {
    "slideshow": {
     "slide_type": "slide"
    }
   },
   "source": [
    "# Command-Line Arguments"
   ]
  },
  {
   "cell_type": "code",
   "execution_count": null,
   "metadata": {
    "scrolled": false,
    "slideshow": {
     "slide_type": "subslide"
    }
   },
   "outputs": [],
   "source": [
    "# try this outside of Jupyter\n",
    "import sys\n",
    "print('Program arguments', sys.argv)"
   ]
  },
  {
   "cell_type": "code",
   "execution_count": null,
   "metadata": {},
   "outputs": [],
   "source": [
    "import sys\n",
    "for idx, arg in enumerate(sys.argv):\n",
    "    print(f\"arg {idx} is {arg}\")"
   ]
  },
  {
   "cell_type": "markdown",
   "metadata": {
    "collapsed": true,
    "slideshow": {
     "slide_type": "subslide"
    }
   },
   "source": [
    "## Lab: Command-Line Arguments\n",
    "* turn your __`calculate()`__ function into a standalone program which takes 3 command line arguments and invokes __`calculate()`__ with those arguments"
   ]
  },
  {
   "cell_type": "code",
   "execution_count": null,
   "metadata": {},
   "outputs": [],
   "source": [
    "# %run is a \"line magic\" that tells Jupyter to run\n",
    "# the rest of the line in bash via python3\n",
    "%run calculate_argv.py 2 5 +"
   ]
  },
  {
   "cell_type": "code",
   "execution_count": null,
   "metadata": {},
   "outputs": [],
   "source": [
    "# '!python3' is a synonym for %run\n",
    "!python3 calculate_argv.py 2 7 -"
   ]
  },
  {
   "cell_type": "markdown",
   "metadata": {
    "slideshow": {
     "slide_type": "slide"
    }
   },
   "source": [
    "# Modules\n",
    "* files of Python code which \"expose\" functions, data, and objects"
   ]
  },
  {
   "cell_type": "code",
   "execution_count": 4,
   "metadata": {},
   "outputs": [
    {
     "name": "stdout",
     "output_type": "stream",
     "text": [
      "['__add__', '__class__', '__contains__', '__delattr__', '__delitem__', '__dir__', '__doc__', '__eq__', '__format__', '__ge__', '__getattribute__', '__getitem__', '__gt__', '__hash__', '__iadd__', '__imul__', '__init__', '__init_subclass__', '__iter__', '__le__', '__len__', '__lt__', '__mul__', '__ne__', '__new__', '__reduce__', '__reduce_ex__', '__repr__', '__reversed__', '__rmul__', '__setattr__', '__setitem__', '__sizeof__', '__str__', '__subclasshook__', 'append', 'clear', 'copy', 'count', 'extend', 'index', 'insert', 'pop', 'remove', 'reverse', 'sort']\n",
      "Help on built-in function dir in module builtins:\n",
      "\n",
      "dir(...)\n",
      "    dir([object]) -> list of strings\n",
      "    \n",
      "    If called without an argument, return the names in the current scope.\n",
      "    Else, return an alphabetized list of names comprising (some of) the attributes\n",
      "    of the given object, and of attributes reachable from it.\n",
      "    If the object supplies a method named __dir__, it will be used; otherwise\n",
      "    the default dir() logic is used and returns:\n",
      "      for a module object: the module's attributes.\n",
      "      for a class object:  its attributes, and recursively the attributes\n",
      "        of its bases.\n",
      "      for any other object: its attributes, its class's attributes, and\n",
      "        recursively the attributes of its class's base classes.\n",
      "\n"
     ]
    }
   ],
   "source": [
    "x = 5\n",
    "y = 10\n",
    "z = 30\n",
    "print(dir(list))\n",
    "help(dir)"
   ]
  },
  {
   "cell_type": "code",
   "execution_count": 8,
   "metadata": {},
   "outputs": [
    {
     "name": "stdout",
     "output_type": "stream",
     "text": [
      "['CLD_CONTINUED', 'CLD_DUMPED', 'CLD_EXITED', 'CLD_TRAPPED', 'DirEntry', 'EX_CANTCREAT', 'EX_CONFIG', 'EX_DATAERR', 'EX_IOERR', 'EX_NOHOST', 'EX_NOINPUT', 'EX_NOPERM', 'EX_NOUSER', 'EX_OK', 'EX_OSERR', 'EX_OSFILE', 'EX_PROTOCOL', 'EX_SOFTWARE', 'EX_TEMPFAIL', 'EX_UNAVAILABLE', 'EX_USAGE', 'F_LOCK', 'F_OK', 'F_TEST', 'F_TLOCK', 'F_ULOCK', 'MutableMapping', 'NGROUPS_MAX', 'O_ACCMODE', 'O_APPEND', 'O_ASYNC', 'O_CLOEXEC', 'O_CREAT', 'O_DIRECTORY', 'O_DSYNC', 'O_EXCL', 'O_EXLOCK', 'O_NDELAY', 'O_NOCTTY', 'O_NOFOLLOW', 'O_NONBLOCK', 'O_RDONLY', 'O_RDWR', 'O_SHLOCK', 'O_SYNC', 'O_TRUNC', 'O_WRONLY', 'POSIX_SPAWN_CLOSE', 'POSIX_SPAWN_DUP2', 'POSIX_SPAWN_OPEN', 'PRIO_PGRP', 'PRIO_PROCESS', 'PRIO_USER', 'P_ALL', 'P_NOWAIT', 'P_NOWAITO', 'P_PGID', 'P_PID', 'P_WAIT', 'PathLike', 'RTLD_GLOBAL', 'RTLD_LAZY', 'RTLD_LOCAL', 'RTLD_NODELETE', 'RTLD_NOLOAD', 'RTLD_NOW', 'R_OK', 'SCHED_FIFO', 'SCHED_OTHER', 'SCHED_RR', 'SEEK_CUR', 'SEEK_DATA', 'SEEK_END', 'SEEK_HOLE', 'SEEK_SET', 'ST_NOSUID', 'ST_RDONLY', 'TMP_MAX', 'WCONTINUED', 'WCOREDUMP', 'WEXITED', 'WEXITSTATUS', 'WIFCONTINUED', 'WIFEXITED', 'WIFSIGNALED', 'WIFSTOPPED', 'WNOHANG', 'WNOWAIT', 'WSTOPPED', 'WSTOPSIG', 'WTERMSIG', 'WUNTRACED', 'W_OK', 'X_OK', '_Environ', '__all__', '__builtins__', '__cached__', '__doc__', '__file__', '__loader__', '__name__', '__package__', '__spec__', '_check_methods', '_execvpe', '_exists', '_exit', '_fspath', '_fwalk', '_get_exports_list', '_putenv', '_spawnvef', '_unsetenv', '_wrap_close', 'abc', 'abort', 'access', 'altsep', 'chdir', 'chflags', 'chmod', 'chown', 'chroot', 'close', 'closerange', 'confstr', 'confstr_names', 'cpu_count', 'ctermid', 'curdir', 'defpath', 'device_encoding', 'devnull', 'dup', 'dup2', 'environ', 'environb', 'error', 'execl', 'execle', 'execlp', 'execlpe', 'execv', 'execve', 'execvp', 'execvpe', 'extsep', 'fchdir', 'fchmod', 'fchown', 'fdopen', 'fork', 'forkpty', 'fpathconf', 'fsdecode', 'fsencode', 'fspath', 'fstat', 'fstatvfs', 'fsync', 'ftruncate', 'fwalk', 'get_blocking', 'get_exec_path', 'get_inheritable', 'get_terminal_size', 'getcwd', 'getcwdb', 'getegid', 'getenv', 'getenvb', 'geteuid', 'getgid', 'getgrouplist', 'getgroups', 'getloadavg', 'getlogin', 'getpgid', 'getpgrp', 'getpid', 'getppid', 'getpriority', 'getsid', 'getuid', 'initgroups', 'isatty', 'kill', 'killpg', 'lchflags', 'lchmod', 'lchown', 'linesep', 'link', 'listdir', 'lockf', 'lseek', 'lstat', 'major', 'makedev', 'makedirs', 'minor', 'mkdir', 'mkfifo', 'mknod', 'name', 'nice', 'open', 'openpty', 'pardir', 'path', 'pathconf', 'pathconf_names', 'pathsep', 'pipe', 'popen', 'posix_spawn', 'posix_spawnp', 'pread', 'preadv', 'putenv', 'pwrite', 'pwritev', 'read', 'readlink', 'readv', 'register_at_fork', 'remove', 'removedirs', 'rename', 'renames', 'replace', 'rmdir', 'scandir', 'sched_get_priority_max', 'sched_get_priority_min', 'sched_yield', 'sendfile', 'sep', 'set_blocking', 'set_inheritable', 'setegid', 'seteuid', 'setgid', 'setgroups', 'setpgid', 'setpgrp', 'setpriority', 'setregid', 'setreuid', 'setsid', 'setuid', 'spawnl', 'spawnle', 'spawnlp', 'spawnlpe', 'spawnv', 'spawnve', 'spawnvp', 'spawnvpe', 'st', 'stat', 'stat_result', 'statvfs', 'statvfs_result', 'strerror', 'supports_bytes_environ', 'supports_dir_fd', 'supports_effective_ids', 'supports_fd', 'supports_follow_symlinks', 'symlink', 'sync', 'sys', 'sysconf', 'sysconf_names', 'system', 'tcgetpgrp', 'tcsetpgrp', 'terminal_size', 'times', 'times_result', 'truncate', 'ttyname', 'umask', 'uname', 'uname_result', 'unlink', 'unsetenv', 'urandom', 'utime', 'wait', 'wait3', 'wait4', 'waitpid', 'walk', 'write', 'writev']\n"
     ]
    }
   ],
   "source": [
    "import os\n",
    "print(dir(os))"
   ]
  },
  {
   "cell_type": "code",
   "execution_count": 9,
   "metadata": {},
   "outputs": [
    {
     "data": {
      "text/plain": [
       "'posix'"
      ]
     },
     "execution_count": 9,
     "metadata": {},
     "output_type": "execute_result"
    }
   ],
   "source": [
    "os.name"
   ]
  },
  {
   "cell_type": "code",
   "execution_count": 10,
   "metadata": {},
   "outputs": [
    {
     "data": {
      "text/plain": [
       "'tylerbettilyon'"
      ]
     },
     "execution_count": 10,
     "metadata": {},
     "output_type": "execute_result"
    }
   ],
   "source": [
    "os.getlogin()"
   ]
  },
  {
   "cell_type": "code",
   "execution_count": 11,
   "metadata": {},
   "outputs": [
    {
     "name": "stdout",
     "output_type": "stream",
     "text": [
      "Help on built-in function getlogin in module posix:\n",
      "\n",
      "getlogin()\n",
      "    Return the actual login name.\n",
      "\n"
     ]
    },
    {
     "data": {
      "text/plain": [
       "['CLD_CONTINUED',\n",
       " 'CLD_DUMPED',\n",
       " 'CLD_EXITED',\n",
       " 'CLD_TRAPPED',\n",
       " 'DirEntry',\n",
       " 'EX_CANTCREAT',\n",
       " 'EX_CONFIG',\n",
       " 'EX_DATAERR',\n",
       " 'EX_IOERR',\n",
       " 'EX_NOHOST',\n",
       " 'EX_NOINPUT',\n",
       " 'EX_NOPERM',\n",
       " 'EX_NOUSER',\n",
       " 'EX_OK',\n",
       " 'EX_OSERR',\n",
       " 'EX_OSFILE',\n",
       " 'EX_PROTOCOL',\n",
       " 'EX_SOFTWARE',\n",
       " 'EX_TEMPFAIL',\n",
       " 'EX_UNAVAILABLE',\n",
       " 'EX_USAGE',\n",
       " 'F_LOCK',\n",
       " 'F_OK',\n",
       " 'F_TEST',\n",
       " 'F_TLOCK',\n",
       " 'F_ULOCK',\n",
       " 'MutableMapping',\n",
       " 'NGROUPS_MAX',\n",
       " 'O_ACCMODE',\n",
       " 'O_APPEND',\n",
       " 'O_ASYNC',\n",
       " 'O_CLOEXEC',\n",
       " 'O_CREAT',\n",
       " 'O_DIRECTORY',\n",
       " 'O_DSYNC',\n",
       " 'O_EXCL',\n",
       " 'O_EXLOCK',\n",
       " 'O_NDELAY',\n",
       " 'O_NOCTTY',\n",
       " 'O_NOFOLLOW',\n",
       " 'O_NONBLOCK',\n",
       " 'O_RDONLY',\n",
       " 'O_RDWR',\n",
       " 'O_SHLOCK',\n",
       " 'O_SYNC',\n",
       " 'O_TRUNC',\n",
       " 'O_WRONLY',\n",
       " 'POSIX_SPAWN_CLOSE',\n",
       " 'POSIX_SPAWN_DUP2',\n",
       " 'POSIX_SPAWN_OPEN',\n",
       " 'PRIO_PGRP',\n",
       " 'PRIO_PROCESS',\n",
       " 'PRIO_USER',\n",
       " 'P_ALL',\n",
       " 'P_NOWAIT',\n",
       " 'P_NOWAITO',\n",
       " 'P_PGID',\n",
       " 'P_PID',\n",
       " 'P_WAIT',\n",
       " 'PathLike',\n",
       " 'RTLD_GLOBAL',\n",
       " 'RTLD_LAZY',\n",
       " 'RTLD_LOCAL',\n",
       " 'RTLD_NODELETE',\n",
       " 'RTLD_NOLOAD',\n",
       " 'RTLD_NOW',\n",
       " 'R_OK',\n",
       " 'SCHED_FIFO',\n",
       " 'SCHED_OTHER',\n",
       " 'SCHED_RR',\n",
       " 'SEEK_CUR',\n",
       " 'SEEK_DATA',\n",
       " 'SEEK_END',\n",
       " 'SEEK_HOLE',\n",
       " 'SEEK_SET',\n",
       " 'ST_NOSUID',\n",
       " 'ST_RDONLY',\n",
       " 'TMP_MAX',\n",
       " 'WCONTINUED',\n",
       " 'WCOREDUMP',\n",
       " 'WEXITED',\n",
       " 'WEXITSTATUS',\n",
       " 'WIFCONTINUED',\n",
       " 'WIFEXITED',\n",
       " 'WIFSIGNALED',\n",
       " 'WIFSTOPPED',\n",
       " 'WNOHANG',\n",
       " 'WNOWAIT',\n",
       " 'WSTOPPED',\n",
       " 'WSTOPSIG',\n",
       " 'WTERMSIG',\n",
       " 'WUNTRACED',\n",
       " 'W_OK',\n",
       " 'X_OK',\n",
       " '_Environ',\n",
       " '__all__',\n",
       " '__builtins__',\n",
       " '__cached__',\n",
       " '__doc__',\n",
       " '__file__',\n",
       " '__loader__',\n",
       " '__name__',\n",
       " '__package__',\n",
       " '__spec__',\n",
       " '_check_methods',\n",
       " '_execvpe',\n",
       " '_exists',\n",
       " '_exit',\n",
       " '_fspath',\n",
       " '_fwalk',\n",
       " '_get_exports_list',\n",
       " '_putenv',\n",
       " '_spawnvef',\n",
       " '_unsetenv',\n",
       " '_wrap_close',\n",
       " 'abc',\n",
       " 'abort',\n",
       " 'access',\n",
       " 'altsep',\n",
       " 'chdir',\n",
       " 'chflags',\n",
       " 'chmod',\n",
       " 'chown',\n",
       " 'chroot',\n",
       " 'close',\n",
       " 'closerange',\n",
       " 'confstr',\n",
       " 'confstr_names',\n",
       " 'cpu_count',\n",
       " 'ctermid',\n",
       " 'curdir',\n",
       " 'defpath',\n",
       " 'device_encoding',\n",
       " 'devnull',\n",
       " 'dup',\n",
       " 'dup2',\n",
       " 'environ',\n",
       " 'environb',\n",
       " 'error',\n",
       " 'execl',\n",
       " 'execle',\n",
       " 'execlp',\n",
       " 'execlpe',\n",
       " 'execv',\n",
       " 'execve',\n",
       " 'execvp',\n",
       " 'execvpe',\n",
       " 'extsep',\n",
       " 'fchdir',\n",
       " 'fchmod',\n",
       " 'fchown',\n",
       " 'fdopen',\n",
       " 'fork',\n",
       " 'forkpty',\n",
       " 'fpathconf',\n",
       " 'fsdecode',\n",
       " 'fsencode',\n",
       " 'fspath',\n",
       " 'fstat',\n",
       " 'fstatvfs',\n",
       " 'fsync',\n",
       " 'ftruncate',\n",
       " 'fwalk',\n",
       " 'get_blocking',\n",
       " 'get_exec_path',\n",
       " 'get_inheritable',\n",
       " 'get_terminal_size',\n",
       " 'getcwd',\n",
       " 'getcwdb',\n",
       " 'getegid',\n",
       " 'getenv',\n",
       " 'getenvb',\n",
       " 'geteuid',\n",
       " 'getgid',\n",
       " 'getgrouplist',\n",
       " 'getgroups',\n",
       " 'getloadavg',\n",
       " 'getlogin',\n",
       " 'getpgid',\n",
       " 'getpgrp',\n",
       " 'getpid',\n",
       " 'getppid',\n",
       " 'getpriority',\n",
       " 'getsid',\n",
       " 'getuid',\n",
       " 'initgroups',\n",
       " 'isatty',\n",
       " 'kill',\n",
       " 'killpg',\n",
       " 'lchflags',\n",
       " 'lchmod',\n",
       " 'lchown',\n",
       " 'linesep',\n",
       " 'link',\n",
       " 'listdir',\n",
       " 'lockf',\n",
       " 'lseek',\n",
       " 'lstat',\n",
       " 'major',\n",
       " 'makedev',\n",
       " 'makedirs',\n",
       " 'minor',\n",
       " 'mkdir',\n",
       " 'mkfifo',\n",
       " 'mknod',\n",
       " 'name',\n",
       " 'nice',\n",
       " 'open',\n",
       " 'openpty',\n",
       " 'pardir',\n",
       " 'path',\n",
       " 'pathconf',\n",
       " 'pathconf_names',\n",
       " 'pathsep',\n",
       " 'pipe',\n",
       " 'popen',\n",
       " 'posix_spawn',\n",
       " 'posix_spawnp',\n",
       " 'pread',\n",
       " 'preadv',\n",
       " 'putenv',\n",
       " 'pwrite',\n",
       " 'pwritev',\n",
       " 'read',\n",
       " 'readlink',\n",
       " 'readv',\n",
       " 'register_at_fork',\n",
       " 'remove',\n",
       " 'removedirs',\n",
       " 'rename',\n",
       " 'renames',\n",
       " 'replace',\n",
       " 'rmdir',\n",
       " 'scandir',\n",
       " 'sched_get_priority_max',\n",
       " 'sched_get_priority_min',\n",
       " 'sched_yield',\n",
       " 'sendfile',\n",
       " 'sep',\n",
       " 'set_blocking',\n",
       " 'set_inheritable',\n",
       " 'setegid',\n",
       " 'seteuid',\n",
       " 'setgid',\n",
       " 'setgroups',\n",
       " 'setpgid',\n",
       " 'setpgrp',\n",
       " 'setpriority',\n",
       " 'setregid',\n",
       " 'setreuid',\n",
       " 'setsid',\n",
       " 'setuid',\n",
       " 'spawnl',\n",
       " 'spawnle',\n",
       " 'spawnlp',\n",
       " 'spawnlpe',\n",
       " 'spawnv',\n",
       " 'spawnve',\n",
       " 'spawnvp',\n",
       " 'spawnvpe',\n",
       " 'st',\n",
       " 'stat',\n",
       " 'stat_result',\n",
       " 'statvfs',\n",
       " 'statvfs_result',\n",
       " 'strerror',\n",
       " 'supports_bytes_environ',\n",
       " 'supports_dir_fd',\n",
       " 'supports_effective_ids',\n",
       " 'supports_fd',\n",
       " 'supports_follow_symlinks',\n",
       " 'symlink',\n",
       " 'sync',\n",
       " 'sys',\n",
       " 'sysconf',\n",
       " 'sysconf_names',\n",
       " 'system',\n",
       " 'tcgetpgrp',\n",
       " 'tcsetpgrp',\n",
       " 'terminal_size',\n",
       " 'times',\n",
       " 'times_result',\n",
       " 'truncate',\n",
       " 'ttyname',\n",
       " 'umask',\n",
       " 'uname',\n",
       " 'uname_result',\n",
       " 'unlink',\n",
       " 'unsetenv',\n",
       " 'urandom',\n",
       " 'utime',\n",
       " 'wait',\n",
       " 'wait3',\n",
       " 'wait4',\n",
       " 'waitpid',\n",
       " 'walk',\n",
       " 'write',\n",
       " 'writev']"
      ]
     },
     "execution_count": 11,
     "metadata": {},
     "output_type": "execute_result"
    }
   ],
   "source": [
    "import os\n",
    "help(os.getlogin)\n",
    "dir(os)"
   ]
  },
  {
   "cell_type": "markdown",
   "metadata": {
    "slideshow": {
     "slide_type": "subslide"
    }
   },
   "source": [
    "## Two Ways to Import Modules\n",
    "* __`import module`__\n",
    "* __`from module import something`__\n",
    "  * __`from module import *`__\n",
    " \n",
    " \n",
    "* imported stuff can be renamed\n",
    "<pre><b>\n",
    "import numpy as np\n",
    "from sys import argv as foo\n",
    "</b></pre>"
   ]
  },
  {
   "cell_type": "code",
   "execution_count": 3,
   "metadata": {},
   "outputs": [
    {
     "data": {
      "text/plain": [
       "'tylerbettilyon'"
      ]
     },
     "execution_count": 3,
     "metadata": {},
     "output_type": "execute_result"
    }
   ],
   "source": [
    "import os as\n",
    "\n",
    "operating_system.getlogin()"
   ]
  },
  {
   "cell_type": "markdown",
   "metadata": {
    "slideshow": {
     "slide_type": "subslide"
    }
   },
   "source": [
    "## Modules: from vs. import"
   ]
  },
  {
   "cell_type": "code",
   "execution_count": null,
   "metadata": {},
   "outputs": [],
   "source": [
    "# This is a module\n",
    "# It lives in the file mymodule.py\n",
    "\n",
    "def dummy():\n",
    "    return 45\n",
    "\n",
    "def foo():\n",
    "    print('bar!')\n",
    "    return 1\n",
    "\n",
    "public_data = \"public stuff!\"\n",
    "# names that begin with _ are considered \"private\"\n",
    "_private_data = \"private stuff!\""
   ]
  },
  {
   "cell_type": "code",
   "execution_count": 10,
   "metadata": {},
   "outputs": [],
   "source": [
    "# when we import using this syntax\n",
    "from mymodule import *"
   ]
  },
  {
   "cell_type": "code",
   "execution_count": 11,
   "metadata": {},
   "outputs": [
    {
     "data": {
      "text/plain": [
       "'private stuff!'"
      ]
     },
     "execution_count": 11,
     "metadata": {},
     "output_type": "execute_result"
    }
   ],
   "source": [
    "# ...all data is added to our \"namespace\" except for private data\n",
    "print(dir(mymodule))"
   ]
  },
  {
   "cell_type": "code",
   "execution_count": 12,
   "metadata": {},
   "outputs": [],
   "source": [
    "# ...but that's not the case if we use the other syntax\n",
    "import mymodule"
   ]
  },
  {
   "cell_type": "code",
   "execution_count": 13,
   "metadata": {},
   "outputs": [
    {
     "name": "stdout",
     "output_type": "stream",
     "text": [
      "['In', 'Out', '_', '_1', '_11', '_2', '_3', '_9', '__', '___', '__builtin__', '__builtins__', '__doc__', '__loader__', '__name__', '__package__', '__spec__', '_dh', '_i', '_i1', '_i10', '_i11', '_i12', '_i13', '_i2', '_i3', '_i4', '_i5', '_i6', '_i7', '_i8', '_i9', '_ih', '_ii', '_iii', '_oh', '_private_data', 'dummy', 'exit', 'foo', 'g_login', 'get_ipython', 'getlogin', 'mymodule', 'operating_system', 'public_data', 'quit']\n"
     ]
    }
   ],
   "source": [
    "print(dir())"
   ]
  },
  {
   "cell_type": "code",
   "execution_count": 14,
   "metadata": {},
   "outputs": [
    {
     "data": {
      "text/plain": [
       "'public stuff!'"
      ]
     },
     "execution_count": 14,
     "metadata": {},
     "output_type": "execute_result"
    }
   ],
   "source": [
    "mymodule.public_data"
   ]
  },
  {
   "cell_type": "code",
   "execution_count": 15,
   "metadata": {},
   "outputs": [
    {
     "data": {
      "text/plain": [
       "'private stuff!'"
      ]
     },
     "execution_count": 15,
     "metadata": {},
     "output_type": "execute_result"
    }
   ],
   "source": [
    "mymodule._private_data"
   ]
  },
  {
   "cell_type": "markdown",
   "metadata": {
    "slideshow": {
     "slide_type": "subslide"
    }
   },
   "source": [
    "## Lab: Modules\n",
    "1. create your own module, mymodule.py (or any name you choose) and import it from IDLE or the Python shell using both from and import syntax\n",
    " be sure you are understand how to access variables/data from your imported modules and the difference between from mymodule and import mymodule\n",
    "2. take your __`calculate.py`__ program and split it into two files: a module which contains the __`calculate`__ function, and a main program which imports the __`calculate`__ module "
   ]
  },
  {
   "cell_type": "markdown",
   "metadata": {
    "slideshow": {
     "slide_type": "subslide"
    }
   },
   "source": [
    "## Modules: Recap\n",
    "* modules are just files of Python code\n",
    "* two ways to import: __`from module import stuff`__ and __`import module`__\n",
    "* don't use __`from module import *`__ except for testing\n",
    "* private data is not really private!\n",
    "* packages are directories containing one or more Python modules"
   ]
  },
  {
   "cell_type": "markdown",
   "metadata": {
    "slideshow": {
     "slide_type": "slide"
    }
   },
   "source": [
    "# Regular Expressions\n",
    "* special sequence of characters that helps you find specific text sequences in strings, files, etc.\n",
    "* \"wildcard\" characters take the place of a group of characters"
   ]
  },
  {
   "cell_type": "code",
   "execution_count": null,
   "metadata": {},
   "outputs": [],
   "source": [
    "import re\n",
    "re.match('a.*a', 'alphabet')"
   ]
  },
  {
   "cell_type": "code",
   "execution_count": null,
   "metadata": {},
   "outputs": [],
   "source": [
    "re.match('h.*t', 'alphabet')"
   ]
  },
  {
   "cell_type": "code",
   "execution_count": null,
   "metadata": {},
   "outputs": [],
   "source": [
    "re.search('h.*t', 'alphabet')"
   ]
  },
  {
   "cell_type": "code",
   "execution_count": null,
   "metadata": {},
   "outputs": [],
   "source": [
    "re.search('a.*z', 'alphabet')"
   ]
  },
  {
   "cell_type": "code",
   "execution_count": null,
   "metadata": {},
   "outputs": [],
   "source": [
    "# you can search for fixed strings, rather than using wildcards...\n",
    "import re\n",
    "linenum = 0\n",
    "\n",
    "for line in open('poem.txt'): # sloppily\n",
    "    linenum += 1\n",
    "    if re.search('the', line):\n",
    "        print(f'{linenum}: {re.sub(\"the\", \"---\", line)}', end='')"
   ]
  },
  {
   "cell_type": "code",
   "execution_count": null,
   "metadata": {},
   "outputs": [],
   "source": [
    "!cat poem.txt"
   ]
  },
  {
   "cell_type": "markdown",
   "metadata": {
    "slideshow": {
     "slide_type": "subslide"
    }
   },
   "source": [
    "## RE Metacharacters\n",
    "<pre><b>\n",
    ". = any character except newline\n",
    "^ = beginning of line/string\n",
    "$ = end of line/string\n",
    "* = 0+ of the preceding RE\n",
    "+ = 1+ of the preceding RE\n",
    "? = 0 or 1 instances of preceding RE\n",
    "{n} = exactly n instances of the preceding RE\n",
    "[] = match character set or range, e.g., [aeiou], [a-z], etc.\n",
    "(…) = matches the RE inside the parens, and creates a group \n",
    "</b></pre>\n",
    "\n",
    "Let's try some of these using regex101.com "
   ]
  },
  {
   "cell_type": "code",
   "execution_count": null,
   "metadata": {},
   "outputs": [],
   "source": [
    "import re\n",
    "o = re.search('l.*e', 'alphabet')\n",
    "o.re"
   ]
  },
  {
   "cell_type": "code",
   "execution_count": null,
   "metadata": {},
   "outputs": [],
   "source": [
    "o.re.pattern"
   ]
  },
  {
   "cell_type": "code",
   "execution_count": null,
   "metadata": {},
   "outputs": [],
   "source": [
    "o.string"
   ]
  },
  {
   "cell_type": "code",
   "execution_count": null,
   "metadata": {},
   "outputs": [],
   "source": [
    "o.start(), o.end()"
   ]
  },
  {
   "cell_type": "code",
   "execution_count": null,
   "metadata": {},
   "outputs": [],
   "source": [
    "o.string[o.start():o.end()]"
   ]
  },
  {
   "cell_type": "markdown",
   "metadata": {
    "slideshow": {
     "slide_type": "subslide"
    }
   },
   "source": [
    "## Lab: Write a Cheap Imitation of __`grep`__ in Python\n",
    "* write a Python program which takes two command line arguments, a filename and a regex pattern\n",
    "* your program should act like __`grep`__ in that it should search for the pattern in each line of the file\n",
    "* if the pattern matches a given line, print out the line"
   ]
  },
  {
   "cell_type": "markdown",
   "metadata": {
    "slideshow": {
     "slide_type": "subslide"
    }
   },
   "source": [
    "## Lab: Pluralization\n",
    "* write a program (or function) which takes a word as a command line argument and outputs the plural of that word\n",
    "* your program should follow these rules:\n",
    "  * if the word ends in 's', 'x', or 'z', the plural adds 'es', e.g., ax => axes, loss => losses\n",
    "  * if the word ends in an 'h', which is not preceded by a vowel or 'd', 'g', 'k', 'p', 'r', or 't', the plural adds 'es', ",
    "e.g., moth => moths, but match => matches\n",
    "  * if the word ends in a 'y' which is not preceded by a vowel, then the plural strips the 'y' and adds 'ies', ",
    "e.g., baby => babies, but boy => boys\n",
    "  * otherwise just add 's'"
   ]
  },
  {
   "cell_type": "markdown",
   "metadata": {
    "slideshow": {
     "slide_type": "slide"
    }
   },
   "source": [
    "# Developer Modules"
   ]
  },
  {
   "cell_type": "markdown",
   "metadata": {
    "slideshow": {
     "slide_type": "subslide"
    }
   },
   "source": [
    "## The __`os`__ module\n",
    "* operating system stuff\n",
    "* i.e., dealing with files, directories, etc.\n",
    "* also running commands outside of Python"
   ]
  },
  {
   "cell_type": "code",
   "execution_count": null,
   "metadata": {},
   "outputs": [],
   "source": [
    "import os\n",
    "os.system('ls') # doesn't print anything in the notebook, \n",
    "# but try it in Python shell"
   ]
  },
  {
   "cell_type": "code",
   "execution_count": null,
   "metadata": {},
   "outputs": [],
   "source": [
    "os.system('touch newfile')\n",
    "os.system('ls newfile')"
   ]
  },
  {
   "cell_type": "code",
   "execution_count": null,
   "metadata": {},
   "outputs": [],
   "source": [
    "# get the current working directory\n",
    "os.getcwd()"
   ]
  },
  {
   "cell_type": "code",
   "execution_count": null,
   "metadata": {},
   "outputs": [],
   "source": [
    "# Does the file 'newfile' exist?\n",
    "os.path.exists('newfile')"
   ]
  },
  {
   "cell_type": "code",
   "execution_count": null,
   "metadata": {},
   "outputs": [],
   "source": [
    "# create a directory\n",
    "os.mkdir('newdir')"
   ]
  },
  {
   "cell_type": "code",
   "execution_count": null,
   "metadata": {},
   "outputs": [],
   "source": [
    "# is 'newdir' a file?\n",
    "os.path.isfile('newdir')"
   ]
  },
  {
   "cell_type": "code",
   "execution_count": null,
   "metadata": {},
   "outputs": [],
   "source": [
    "#is 'newdir' a directory?\n",
    "os.path.isdir('newdir')"
   ]
  },
  {
   "cell_type": "markdown",
   "metadata": {
    "slideshow": {
     "slide_type": "subslide"
    }
   },
   "source": [
    "## The __`sys`__ module\n",
    "* system-specific parameters and functions\n",
    "* we've already seen some examples, __`argv`__ and __`path`__"
   ]
  },
  {
   "cell_type": "code",
   "execution_count": null,
   "metadata": {},
   "outputs": [],
   "source": [
    "import sys\n",
    "sys.path"
   ]
  },
  {
   "cell_type": "code",
   "execution_count": null,
   "metadata": {},
   "outputs": [],
   "source": [
    "sys.maxsize"
   ]
  },
  {
   "cell_type": "code",
   "execution_count": null,
   "metadata": {},
   "outputs": [],
   "source": [
    "2 ** 63 - 1"
   ]
  },
  {
   "cell_type": "code",
   "execution_count": null,
   "metadata": {},
   "outputs": [],
   "source": [
    "# To exit a Python script, use sys.exit()\n",
    "# Won't work here, because we're in the notebook\n",
    "sys.exit(0)"
   ]
  },
  {
   "cell_type": "markdown",
   "metadata": {
    "slideshow": {
     "slide_type": "subslide"
    }
   },
   "source": [
    "# __`shutil`__ module\n",
    "* shell utilities\n",
    "* e.g., high-level file operations (platform independent)"
   ]
  },
  {
   "cell_type": "code",
   "execution_count": null,
   "metadata": {
    "scrolled": true
   },
   "outputs": [],
   "source": [
    "import os\n",
    "print(os.system('ls newfileCopy'))\n",
    "import subprocess\n",
    "subprocess.getoutput('ls newFileCopy')"
   ]
  },
  {
   "cell_type": "code",
   "execution_count": null,
   "metadata": {},
   "outputs": [],
   "source": [
    "import shutil\n",
    "# create a copy of a file\n",
    "shutil.copy('newfile', 'newfileCopy')\n",
    "# os.system('cp newfile newfileCopy')"
   ]
  },
  {
   "cell_type": "code",
   "execution_count": null,
   "metadata": {},
   "outputs": [],
   "source": [
    "os.path.exists('newfileCopy')"
   ]
  },
  {
   "cell_type": "code",
   "execution_count": null,
   "metadata": {},
   "outputs": [],
   "source": [
    "shutil.move('newfileCopy', 'newerfile')"
   ]
  },
  {
   "cell_type": "code",
   "execution_count": null,
   "metadata": {},
   "outputs": [],
   "source": [
    "os.path.exists('newerfile')"
   ]
  },
  {
   "cell_type": "markdown",
   "metadata": {
    "slideshow": {
     "slide_type": "subslide"
    }
   },
   "source": [
    "## __`glob`__ module\n",
    "* __`glob()`__ function matches file or directory names using Linux shell rules rather than regular expression syntax"
   ]
  },
  {
   "cell_type": "code",
   "execution_count": null,
   "metadata": {},
   "outputs": [],
   "source": [
    "import glob\n",
    "glob.glob('n*')"
   ]
  },
  {
   "cell_type": "code",
   "execution_count": null,
   "metadata": {},
   "outputs": [],
   "source": [
    "glob.glob('*e')"
   ]
  },
  {
   "cell_type": "code",
   "execution_count": null,
   "metadata": {},
   "outputs": [],
   "source": [
    "glob.glob('???')"
   ]
  },
  {
   "cell_type": "code",
   "execution_count": null,
   "metadata": {},
   "outputs": [],
   "source": [
    "import subprocess\n",
    "subprocess.getoutput('touch abc')"
   ]
  },
  {
   "cell_type": "code",
   "execution_count": null,
   "metadata": {},
   "outputs": [],
   "source": [
    "glob.glob('???')"
   ]
  },
  {
   "cell_type": "markdown",
   "metadata": {
    "slideshow": {
     "slide_type": "subslide"
    }
   },
   "source": [
    "## subprocess module\n",
    "* supplants __`os.system()/os.spawn()`__, both of which used to be standard way to run programs outside of Python"
   ]
  },
  {
   "cell_type": "code",
   "execution_count": null,
   "metadata": {},
   "outputs": [],
   "source": [
    "import subprocess\n",
    "ret = subprocess.getoutput('date')\n",
    "ret"
   ]
  },
  {
   "cell_type": "code",
   "execution_count": null,
   "metadata": {},
   "outputs": [],
   "source": [
    "ret = subprocess.getoutput('ls')\n",
    "ret"
   ]
  },
  {
   "cell_type": "code",
   "execution_count": null,
   "metadata": {},
   "outputs": [],
   "source": [
    "print(ret)"
   ]
  },
  {
   "cell_type": "markdown",
   "metadata": {
    "slideshow": {
     "slide_type": "subslide"
    }
   },
   "source": [
    "## Pass-by-value or Pass-by-reference?\n",
    "* neither!\n",
    "* both!\n",
    "* Python is __\"pass by assignment\"__"
   ]
  },
  {
   "cell_type": "code",
   "execution_count": null,
   "metadata": {},
   "outputs": [],
   "source": [
    "def func(x):\n",
    "    x.append('new')\n",
    "    x = [4, 5, 6]\n",
    "    print('in func, x is', x)"
   ]
  },
  {
   "cell_type": "code",
   "execution_count": null,
   "metadata": {},
   "outputs": [],
   "source": [
    "mylist = [1, 2, 3]\n",
    "func(mylist)\n",
    "mylist"
   ]
  }
 ],
 "metadata": {
  "celltoolbar": "Slideshow",
  "kernelspec": {
   "display_name": "Python 3",
   "language": "python",
   "name": "python3"
  },
  "language_info": {
   "codemirror_mode": {
    "name": "ipython",
    "version": 3
   },
   "file_extension": ".py",
   "mimetype": "text/x-python",
   "name": "python",
   "nbconvert_exporter": "python",
   "pygments_lexer": "ipython3",
   "version": "3.8.10"
  }
 },
 "nbformat": 4,
 "nbformat_minor": 1
}
